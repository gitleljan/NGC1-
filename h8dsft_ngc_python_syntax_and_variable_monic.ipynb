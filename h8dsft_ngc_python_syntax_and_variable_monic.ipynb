{
  "nbformat": 4,
  "nbformat_minor": 0,
  "metadata": {
    "colab": {
      "provenance": []
    },
    "kernelspec": {
      "name": "python3",
      "display_name": "Python 3"
    },
    "language_info": {
      "name": "python"
    }
  },
  "cells": [
    {
      "cell_type": "markdown",
      "source": [
        "#NGC 1"
      ],
      "metadata": {
        "id": "lm7os7onwfJb"
      }
    },
    {
      "cell_type": "markdown",
      "source": [
        "Nama  : Monicha\n",
        "\n",
        "Batch : FTDS RMT 029"
      ],
      "metadata": {
        "id": "5Ldot_BKwnOO"
      }
    },
    {
      "cell_type": "markdown",
      "source": [
        "1. How many unique customer_id from the list?\n"
      ],
      "metadata": {
        "id": "kaqfwW1mx0iM"
      }
    },
    {
      "cell_type": "code",
      "source": [
        "# customer_id = ['B818', 'A461', 'A092', 'A082', 'B341', 'A005', 'A092', 'A461','B219', 'B904', 'A901', 'A083', 'B904', 'A092', 'B341', 'B821','B341', 'B821', 'B904', 'B818', 'A901', 'A083', 'B818', 'A082','B219', 'B219', 'A083', 'A901', 'A082', 'B341', 'B341', 'A083','A082', 'B219', 'B439', 'A461', 'A005', 'A901', 'B341', 'A082','A083', 'A461', 'A083', 'A901', 'A461', 'A083', 'A082', 'A083','B341', 'A901', 'A082', 'A461', 'B219', 'A083', 'B818', 'B821','A092', 'B341', 'A461', 'A092', 'A083', 'B821', 'A092']"
      ],
      "metadata": {
        "id": "wJwIrrVUxjoe"
      },
      "execution_count": 1,
      "outputs": []
    },
    {
      "cell_type": "code",
      "source": [
        "customer_id ={'B818', 'A461', 'A092', 'A082', 'B341', 'A005', 'A092', 'A461','B219', 'B904', 'A901', 'A083', 'B904', 'A092', 'B341', 'B821','B341', 'B821', 'B904', 'B818', 'A901', 'A083', 'B818', 'A082','B219', 'B219', 'A083', 'A901', 'A082', 'B341', 'B341', 'A083','A082', 'B219', 'B439', 'A461', 'A005', 'A901', 'B341', 'A082','A083', 'A461', 'A083', 'A901', 'A461', 'A083', 'A082', 'A083','B341', 'A901', 'A082', 'A461', 'B219', 'A083', 'B818', 'B821','A092', 'B341', 'A461', 'A092', 'A083', 'B821', 'A092'}"
      ],
      "metadata": {
        "id": "TLoZmr-axwa3"
      },
      "execution_count": 2,
      "outputs": []
    },
    {
      "cell_type": "code",
      "source": [
        "len(customer_id)"
      ],
      "metadata": {
        "colab": {
          "base_uri": "https://localhost:8080/"
        },
        "id": "MqM66LYF7F0G",
        "outputId": "7cae9eac-cf99-4802-913d-7a63a6f85326"
      },
      "execution_count": 3,
      "outputs": [
        {
          "output_type": "execute_result",
          "data": {
            "text/plain": [
              "12"
            ]
          },
          "metadata": {},
          "execution_count": 3
        }
      ]
    },
    {
      "cell_type": "markdown",
      "source": [
        "jumlah unik customer_id adalah 12"
      ],
      "metadata": {
        "id": "D79rT-QZ8COf"
      }
    },
    {
      "cell_type": "markdown",
      "source": [
        "2. Use indexing so you can get this output:\n",
        "\n",
        "   a.16\n",
        "\n",
        "   b.[36, 49, 64, 81]\n",
        "\n",
        "   c.[100, 81, 64, 49, 36, 25, 16, 9, 4, 1]\n"
      ],
      "metadata": {
        "id": "WdXeXNIo8ubr"
      }
    },
    {
      "cell_type": "code",
      "source": [
        "Data = [1, 4, 9, 16, 25, 36, 49,  64, 81, 100]\n",
        "\n",
        "#a\n",
        "print(Data[3])\n",
        "\n",
        "#b\n",
        "print(Data[5:9])\n",
        "\n",
        "#c\n",
        "\n",
        "Data[0:10] = [100,81,64,49,36,25,16,9,4,1]\n",
        "print(Data)\n"
      ],
      "metadata": {
        "colab": {
          "base_uri": "https://localhost:8080/"
        },
        "id": "eaB4szXD9LQl",
        "outputId": "ef57f074-76e0-4ff7-dce1-838c2b859c16"
      },
      "execution_count": 26,
      "outputs": [
        {
          "output_type": "stream",
          "name": "stdout",
          "text": [
            "16\n",
            "[36, 49, 64, 81]\n",
            "[100, 81, 64, 49, 36, 25, 16, 9, 4, 1]\n"
          ]
        }
      ]
    },
    {
      "cell_type": "markdown",
      "source": [
        "3. what python command can be use to:\n",
        "\n",
        "   a.Get list of keys available in dictionary\n",
        "\n",
        "   b.Change 'Jawa Timur' value from 'Madiun'  to 'Surabaya'6\n"
      ],
      "metadata": {
        "id": "37rimdlREljG"
      }
    },
    {
      "cell_type": "code",
      "source": [
        "provinsi = {\"Nanggroe Aceh Darussalam\": \"Aceh\",\n",
        "            \"Sumatera Selatan\": \"Palembang\",\n",
        "            \"Kalimantan Barat\": \"Pontianak\",\n",
        "            \"Jawa Timur\": \"Madiun\",\n",
        "            \"Sulawesi Selatan\": \"Makassar\",\n",
        "            \"Maluku\": \"Ambon\"}\n",
        "\n",
        "#3a. Key of available\n",
        "provinsi[\"Nanggroe Aceh Darussalam\"], provinsi [\"Sumatera Selatan\"], provinsi [\"Kalimantan Barat\"]\n"
      ],
      "metadata": {
        "colab": {
          "base_uri": "https://localhost:8080/"
        },
        "id": "bNxjA4dHFgyh",
        "outputId": "85f3e68e-11fa-4c34-8b67-d6bdd7d0dec1"
      },
      "execution_count": 50,
      "outputs": [
        {
          "output_type": "execute_result",
          "data": {
            "text/plain": [
              "('Aceh', 'Palembang', 'Pontianak')"
            ]
          },
          "metadata": {},
          "execution_count": 50
        }
      ]
    },
    {
      "cell_type": "code",
      "source": [
        "#3b. change value Jawa Timur from Madiun to Surabaya\n",
        "\n",
        "provinsi[\"Jawa Timur\"] = \"Surabaya\"\n",
        "print (provinsi)"
      ],
      "metadata": {
        "colab": {
          "base_uri": "https://localhost:8080/"
        },
        "id": "zkp2FgYDK9oj",
        "outputId": "c483bad2-0052-4b4a-edec-f79844e11873"
      },
      "execution_count": 52,
      "outputs": [
        {
          "output_type": "stream",
          "name": "stdout",
          "text": [
            "{'Nanggroe Aceh Darussalam': 'Aceh', 'Sumatera Selatan': 'Palembang', 'Kalimantan Barat': 'Pontianak', 'Jawa Timur': 'Surabaya', 'Sulawesi Selatan': 'Makassar', 'Maluku': 'Ambon'}\n"
          ]
        }
      ]
    }
  ]
}